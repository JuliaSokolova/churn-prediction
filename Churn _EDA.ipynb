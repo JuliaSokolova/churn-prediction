{
 "cells": [
  {
   "cell_type": "code",
   "execution_count": 82,
   "metadata": {},
   "outputs": [],
   "source": [
    "import pandas as pd\n",
    "from sklearn.linear_model import LogisticRegression\n",
    "from sklearn.metrics import mean_squared_log_error, mean_squared_error, confusion_matrix, r2_score\n",
    "\n",
    "from sklearn.tree import DecisionTreeRegressor\n",
    "from sklearn.ensemble import RandomForestRegressor\n",
    "from sklearn.ensemble import GradientBoostingRegressor\n",
    "from sklearn.ensemble import GradientBoostingClassifier\n",
    "from sklearn.ensemble import AdaBoostRegressor\n",
    "from sklearn.datasets import load_boston\n",
    "from sklearn.model_selection import train_test_split, cross_val_score\n",
    "from sklearn.model_selection import GridSearchCV\n",
    " \n",
    "import matplotlib.pyplot as plt\n",
    "import numpy as np"
   ]
  },
  {
   "cell_type": "code",
   "execution_count": 5,
   "metadata": {},
   "outputs": [],
   "source": [
    "data = pd.read_csv('data/churn.csv')\n",
    "data_test = pd.read_csv('data/churn_test.csv')\n",
    "data_train = pd.read_csv('data/churn_train.csv')"
   ]
  },
  {
   "cell_type": "code",
   "execution_count": 25,
   "metadata": {
    "scrolled": true
   },
   "outputs": [
    {
     "data": {
      "text/html": [
       "<div>\n",
       "<style scoped>\n",
       "    .dataframe tbody tr th:only-of-type {\n",
       "        vertical-align: middle;\n",
       "    }\n",
       "\n",
       "    .dataframe tbody tr th {\n",
       "        vertical-align: top;\n",
       "    }\n",
       "\n",
       "    .dataframe thead th {\n",
       "        text-align: right;\n",
       "    }\n",
       "</style>\n",
       "<table border=\"1\" class=\"dataframe\">\n",
       "  <thead>\n",
       "    <tr style=\"text-align: right;\">\n",
       "      <th></th>\n",
       "      <th>0</th>\n",
       "      <th>1</th>\n",
       "      <th>2</th>\n",
       "      <th>3</th>\n",
       "      <th>4</th>\n",
       "      <th>5</th>\n",
       "      <th>6</th>\n",
       "      <th>7</th>\n",
       "      <th>8</th>\n",
       "      <th>9</th>\n",
       "      <th>...</th>\n",
       "      <th>49990</th>\n",
       "      <th>49991</th>\n",
       "      <th>49992</th>\n",
       "      <th>49993</th>\n",
       "      <th>49994</th>\n",
       "      <th>49995</th>\n",
       "      <th>49996</th>\n",
       "      <th>49997</th>\n",
       "      <th>49998</th>\n",
       "      <th>49999</th>\n",
       "    </tr>\n",
       "  </thead>\n",
       "  <tbody>\n",
       "    <tr>\n",
       "      <th>avg_dist</th>\n",
       "      <td>3.67</td>\n",
       "      <td>8.26</td>\n",
       "      <td>0.77</td>\n",
       "      <td>2.36</td>\n",
       "      <td>3.13</td>\n",
       "      <td>10.56</td>\n",
       "      <td>3.95</td>\n",
       "      <td>2.04</td>\n",
       "      <td>4.36</td>\n",
       "      <td>2.37</td>\n",
       "      <td>...</td>\n",
       "      <td>3.38</td>\n",
       "      <td>1.06</td>\n",
       "      <td>7.58</td>\n",
       "      <td>2.53</td>\n",
       "      <td>2.25</td>\n",
       "      <td>5.63</td>\n",
       "      <td>0</td>\n",
       "      <td>3.86</td>\n",
       "      <td>4.58</td>\n",
       "      <td>3.49</td>\n",
       "    </tr>\n",
       "    <tr>\n",
       "      <th>avg_rating_by_driver</th>\n",
       "      <td>5</td>\n",
       "      <td>5</td>\n",
       "      <td>5</td>\n",
       "      <td>4.9</td>\n",
       "      <td>4.9</td>\n",
       "      <td>5</td>\n",
       "      <td>4</td>\n",
       "      <td>5</td>\n",
       "      <td>5</td>\n",
       "      <td>5</td>\n",
       "      <td>...</td>\n",
       "      <td>5</td>\n",
       "      <td>5</td>\n",
       "      <td>5</td>\n",
       "      <td>4.7</td>\n",
       "      <td>4.5</td>\n",
       "      <td>4.2</td>\n",
       "      <td>4</td>\n",
       "      <td>5</td>\n",
       "      <td>3.5</td>\n",
       "      <td>5</td>\n",
       "    </tr>\n",
       "    <tr>\n",
       "      <th>avg_rating_of_driver</th>\n",
       "      <td>4.7</td>\n",
       "      <td>5</td>\n",
       "      <td>4.3</td>\n",
       "      <td>4.6</td>\n",
       "      <td>4.4</td>\n",
       "      <td>3.5</td>\n",
       "      <td>NaN</td>\n",
       "      <td>5</td>\n",
       "      <td>4.5</td>\n",
       "      <td>NaN</td>\n",
       "      <td>...</td>\n",
       "      <td>4.7</td>\n",
       "      <td>5</td>\n",
       "      <td>1</td>\n",
       "      <td>4.8</td>\n",
       "      <td>4.6</td>\n",
       "      <td>5</td>\n",
       "      <td>NaN</td>\n",
       "      <td>5</td>\n",
       "      <td>3</td>\n",
       "      <td>NaN</td>\n",
       "    </tr>\n",
       "    <tr>\n",
       "      <th>avg_surge</th>\n",
       "      <td>1.1</td>\n",
       "      <td>1</td>\n",
       "      <td>1</td>\n",
       "      <td>1.14</td>\n",
       "      <td>1.19</td>\n",
       "      <td>1</td>\n",
       "      <td>1</td>\n",
       "      <td>1</td>\n",
       "      <td>1</td>\n",
       "      <td>1</td>\n",
       "      <td>...</td>\n",
       "      <td>1.08</td>\n",
       "      <td>1.25</td>\n",
       "      <td>1</td>\n",
       "      <td>1.11</td>\n",
       "      <td>1.44</td>\n",
       "      <td>1</td>\n",
       "      <td>1</td>\n",
       "      <td>1</td>\n",
       "      <td>1</td>\n",
       "      <td>1</td>\n",
       "    </tr>\n",
       "    <tr>\n",
       "      <th>city</th>\n",
       "      <td>King's Landing</td>\n",
       "      <td>Astapor</td>\n",
       "      <td>Astapor</td>\n",
       "      <td>King's Landing</td>\n",
       "      <td>Winterfell</td>\n",
       "      <td>Winterfell</td>\n",
       "      <td>Astapor</td>\n",
       "      <td>Winterfell</td>\n",
       "      <td>Winterfell</td>\n",
       "      <td>Winterfell</td>\n",
       "      <td>...</td>\n",
       "      <td>Astapor</td>\n",
       "      <td>Winterfell</td>\n",
       "      <td>King's Landing</td>\n",
       "      <td>Astapor</td>\n",
       "      <td>Astapor</td>\n",
       "      <td>King's Landing</td>\n",
       "      <td>Astapor</td>\n",
       "      <td>Winterfell</td>\n",
       "      <td>Astapor</td>\n",
       "      <td>Astapor</td>\n",
       "    </tr>\n",
       "    <tr>\n",
       "      <th>last_trip_date</th>\n",
       "      <td>2014-06-17</td>\n",
       "      <td>2014-05-05</td>\n",
       "      <td>2014-01-07</td>\n",
       "      <td>2014-06-29</td>\n",
       "      <td>2014-03-15</td>\n",
       "      <td>2014-06-06</td>\n",
       "      <td>2014-01-25</td>\n",
       "      <td>2014-01-29</td>\n",
       "      <td>2014-02-01</td>\n",
       "      <td>2014-01-05</td>\n",
       "      <td>...</td>\n",
       "      <td>2014-05-18</td>\n",
       "      <td>2014-06-29</td>\n",
       "      <td>2014-01-19</td>\n",
       "      <td>2014-07-01</td>\n",
       "      <td>2014-05-31</td>\n",
       "      <td>2014-06-05</td>\n",
       "      <td>2014-01-25</td>\n",
       "      <td>2014-05-22</td>\n",
       "      <td>2014-01-15</td>\n",
       "      <td>2014-04-20</td>\n",
       "    </tr>\n",
       "    <tr>\n",
       "      <th>phone</th>\n",
       "      <td>iPhone</td>\n",
       "      <td>Android</td>\n",
       "      <td>iPhone</td>\n",
       "      <td>iPhone</td>\n",
       "      <td>Android</td>\n",
       "      <td>iPhone</td>\n",
       "      <td>Android</td>\n",
       "      <td>iPhone</td>\n",
       "      <td>Android</td>\n",
       "      <td>Android</td>\n",
       "      <td>...</td>\n",
       "      <td>iPhone</td>\n",
       "      <td>iPhone</td>\n",
       "      <td>iPhone</td>\n",
       "      <td>iPhone</td>\n",
       "      <td>iPhone</td>\n",
       "      <td>iPhone</td>\n",
       "      <td>iPhone</td>\n",
       "      <td>Android</td>\n",
       "      <td>iPhone</td>\n",
       "      <td>Android</td>\n",
       "    </tr>\n",
       "    <tr>\n",
       "      <th>signup_date</th>\n",
       "      <td>2014-01-25</td>\n",
       "      <td>2014-01-29</td>\n",
       "      <td>2014-01-06</td>\n",
       "      <td>2014-01-10</td>\n",
       "      <td>2014-01-27</td>\n",
       "      <td>2014-01-09</td>\n",
       "      <td>2014-01-24</td>\n",
       "      <td>2014-01-28</td>\n",
       "      <td>2014-01-21</td>\n",
       "      <td>2014-01-03</td>\n",
       "      <td>...</td>\n",
       "      <td>2014-01-13</td>\n",
       "      <td>2014-01-08</td>\n",
       "      <td>2014-01-18</td>\n",
       "      <td>2014-01-03</td>\n",
       "      <td>2014-01-03</td>\n",
       "      <td>2014-01-25</td>\n",
       "      <td>2014-01-24</td>\n",
       "      <td>2014-01-31</td>\n",
       "      <td>2014-01-14</td>\n",
       "      <td>2014-01-18</td>\n",
       "    </tr>\n",
       "    <tr>\n",
       "      <th>surge_pct</th>\n",
       "      <td>15.4</td>\n",
       "      <td>0</td>\n",
       "      <td>0</td>\n",
       "      <td>20</td>\n",
       "      <td>11.8</td>\n",
       "      <td>0</td>\n",
       "      <td>0</td>\n",
       "      <td>0</td>\n",
       "      <td>0</td>\n",
       "      <td>0</td>\n",
       "      <td>...</td>\n",
       "      <td>33.3</td>\n",
       "      <td>100</td>\n",
       "      <td>0</td>\n",
       "      <td>11.1</td>\n",
       "      <td>37.5</td>\n",
       "      <td>0</td>\n",
       "      <td>0</td>\n",
       "      <td>0</td>\n",
       "      <td>0</td>\n",
       "      <td>0</td>\n",
       "    </tr>\n",
       "    <tr>\n",
       "      <th>trips_in_first_30_days</th>\n",
       "      <td>4</td>\n",
       "      <td>0</td>\n",
       "      <td>3</td>\n",
       "      <td>9</td>\n",
       "      <td>14</td>\n",
       "      <td>2</td>\n",
       "      <td>1</td>\n",
       "      <td>2</td>\n",
       "      <td>2</td>\n",
       "      <td>1</td>\n",
       "      <td>...</td>\n",
       "      <td>1</td>\n",
       "      <td>0</td>\n",
       "      <td>1</td>\n",
       "      <td>3</td>\n",
       "      <td>1</td>\n",
       "      <td>0</td>\n",
       "      <td>1</td>\n",
       "      <td>0</td>\n",
       "      <td>2</td>\n",
       "      <td>0</td>\n",
       "    </tr>\n",
       "    <tr>\n",
       "      <th>luxury_car_user</th>\n",
       "      <td>1</td>\n",
       "      <td>0</td>\n",
       "      <td>0</td>\n",
       "      <td>1</td>\n",
       "      <td>0</td>\n",
       "      <td>1</td>\n",
       "      <td>0</td>\n",
       "      <td>0</td>\n",
       "      <td>0</td>\n",
       "      <td>0</td>\n",
       "      <td>...</td>\n",
       "      <td>1</td>\n",
       "      <td>0</td>\n",
       "      <td>0</td>\n",
       "      <td>1</td>\n",
       "      <td>0</td>\n",
       "      <td>0</td>\n",
       "      <td>0</td>\n",
       "      <td>1</td>\n",
       "      <td>0</td>\n",
       "      <td>0</td>\n",
       "    </tr>\n",
       "    <tr>\n",
       "      <th>weekday_pct</th>\n",
       "      <td>46.2</td>\n",
       "      <td>50</td>\n",
       "      <td>100</td>\n",
       "      <td>80</td>\n",
       "      <td>82.4</td>\n",
       "      <td>100</td>\n",
       "      <td>100</td>\n",
       "      <td>100</td>\n",
       "      <td>100</td>\n",
       "      <td>0</td>\n",
       "      <td>...</td>\n",
       "      <td>33.3</td>\n",
       "      <td>0</td>\n",
       "      <td>0</td>\n",
       "      <td>55.6</td>\n",
       "      <td>25</td>\n",
       "      <td>100</td>\n",
       "      <td>0</td>\n",
       "      <td>100</td>\n",
       "      <td>100</td>\n",
       "      <td>0</td>\n",
       "    </tr>\n",
       "    <tr>\n",
       "      <th>last_trip</th>\n",
       "      <td>2014-06-17 00:00:00</td>\n",
       "      <td>2014-05-05 00:00:00</td>\n",
       "      <td>2014-01-07 00:00:00</td>\n",
       "      <td>2014-06-29 00:00:00</td>\n",
       "      <td>2014-03-15 00:00:00</td>\n",
       "      <td>2014-06-06 00:00:00</td>\n",
       "      <td>2014-01-25 00:00:00</td>\n",
       "      <td>2014-01-29 00:00:00</td>\n",
       "      <td>2014-02-01 00:00:00</td>\n",
       "      <td>2014-01-05 00:00:00</td>\n",
       "      <td>...</td>\n",
       "      <td>2014-05-18 00:00:00</td>\n",
       "      <td>2014-06-29 00:00:00</td>\n",
       "      <td>2014-01-19 00:00:00</td>\n",
       "      <td>2014-07-01 00:00:00</td>\n",
       "      <td>2014-05-31 00:00:00</td>\n",
       "      <td>2014-06-05 00:00:00</td>\n",
       "      <td>2014-01-25 00:00:00</td>\n",
       "      <td>2014-05-22 00:00:00</td>\n",
       "      <td>2014-01-15 00:00:00</td>\n",
       "      <td>2014-04-20 00:00:00</td>\n",
       "    </tr>\n",
       "    <tr>\n",
       "      <th>churn</th>\n",
       "      <td>0</td>\n",
       "      <td>1</td>\n",
       "      <td>1</td>\n",
       "      <td>0</td>\n",
       "      <td>1</td>\n",
       "      <td>0</td>\n",
       "      <td>1</td>\n",
       "      <td>1</td>\n",
       "      <td>1</td>\n",
       "      <td>1</td>\n",
       "      <td>...</td>\n",
       "      <td>1</td>\n",
       "      <td>0</td>\n",
       "      <td>1</td>\n",
       "      <td>0</td>\n",
       "      <td>1</td>\n",
       "      <td>0</td>\n",
       "      <td>1</td>\n",
       "      <td>1</td>\n",
       "      <td>1</td>\n",
       "      <td>1</td>\n",
       "    </tr>\n",
       "  </tbody>\n",
       "</table>\n",
       "<p>14 rows × 50000 columns</p>\n",
       "</div>"
      ],
      "text/plain": [
       "                                      0                    1      \\\n",
       "avg_dist                               3.67                 8.26   \n",
       "avg_rating_by_driver                      5                    5   \n",
       "avg_rating_of_driver                    4.7                    5   \n",
       "avg_surge                               1.1                    1   \n",
       "city                         King's Landing              Astapor   \n",
       "last_trip_date                   2014-06-17           2014-05-05   \n",
       "phone                                iPhone              Android   \n",
       "signup_date                      2014-01-25           2014-01-29   \n",
       "surge_pct                              15.4                    0   \n",
       "trips_in_first_30_days                    4                    0   \n",
       "luxury_car_user                           1                    0   \n",
       "weekday_pct                            46.2                   50   \n",
       "last_trip               2014-06-17 00:00:00  2014-05-05 00:00:00   \n",
       "churn                                     0                    1   \n",
       "\n",
       "                                      2                    3      \\\n",
       "avg_dist                               0.77                 2.36   \n",
       "avg_rating_by_driver                      5                  4.9   \n",
       "avg_rating_of_driver                    4.3                  4.6   \n",
       "avg_surge                                 1                 1.14   \n",
       "city                                Astapor       King's Landing   \n",
       "last_trip_date                   2014-01-07           2014-06-29   \n",
       "phone                                iPhone               iPhone   \n",
       "signup_date                      2014-01-06           2014-01-10   \n",
       "surge_pct                                 0                   20   \n",
       "trips_in_first_30_days                    3                    9   \n",
       "luxury_car_user                           0                    1   \n",
       "weekday_pct                             100                   80   \n",
       "last_trip               2014-01-07 00:00:00  2014-06-29 00:00:00   \n",
       "churn                                     1                    0   \n",
       "\n",
       "                                      4                    5      \\\n",
       "avg_dist                               3.13                10.56   \n",
       "avg_rating_by_driver                    4.9                    5   \n",
       "avg_rating_of_driver                    4.4                  3.5   \n",
       "avg_surge                              1.19                    1   \n",
       "city                             Winterfell           Winterfell   \n",
       "last_trip_date                   2014-03-15           2014-06-06   \n",
       "phone                               Android               iPhone   \n",
       "signup_date                      2014-01-27           2014-01-09   \n",
       "surge_pct                              11.8                    0   \n",
       "trips_in_first_30_days                   14                    2   \n",
       "luxury_car_user                           0                    1   \n",
       "weekday_pct                            82.4                  100   \n",
       "last_trip               2014-03-15 00:00:00  2014-06-06 00:00:00   \n",
       "churn                                     1                    0   \n",
       "\n",
       "                                      6                    7      \\\n",
       "avg_dist                               3.95                 2.04   \n",
       "avg_rating_by_driver                      4                    5   \n",
       "avg_rating_of_driver                    NaN                    5   \n",
       "avg_surge                                 1                    1   \n",
       "city                                Astapor           Winterfell   \n",
       "last_trip_date                   2014-01-25           2014-01-29   \n",
       "phone                               Android               iPhone   \n",
       "signup_date                      2014-01-24           2014-01-28   \n",
       "surge_pct                                 0                    0   \n",
       "trips_in_first_30_days                    1                    2   \n",
       "luxury_car_user                           0                    0   \n",
       "weekday_pct                             100                  100   \n",
       "last_trip               2014-01-25 00:00:00  2014-01-29 00:00:00   \n",
       "churn                                     1                    1   \n",
       "\n",
       "                                      8                    9      ...  \\\n",
       "avg_dist                               4.36                 2.37  ...   \n",
       "avg_rating_by_driver                      5                    5  ...   \n",
       "avg_rating_of_driver                    4.5                  NaN  ...   \n",
       "avg_surge                                 1                    1  ...   \n",
       "city                             Winterfell           Winterfell  ...   \n",
       "last_trip_date                   2014-02-01           2014-01-05  ...   \n",
       "phone                               Android              Android  ...   \n",
       "signup_date                      2014-01-21           2014-01-03  ...   \n",
       "surge_pct                                 0                    0  ...   \n",
       "trips_in_first_30_days                    2                    1  ...   \n",
       "luxury_car_user                           0                    0  ...   \n",
       "weekday_pct                             100                    0  ...   \n",
       "last_trip               2014-02-01 00:00:00  2014-01-05 00:00:00  ...   \n",
       "churn                                     1                    1  ...   \n",
       "\n",
       "                                      49990                49991  \\\n",
       "avg_dist                               3.38                 1.06   \n",
       "avg_rating_by_driver                      5                    5   \n",
       "avg_rating_of_driver                    4.7                    5   \n",
       "avg_surge                              1.08                 1.25   \n",
       "city                                Astapor           Winterfell   \n",
       "last_trip_date                   2014-05-18           2014-06-29   \n",
       "phone                                iPhone               iPhone   \n",
       "signup_date                      2014-01-13           2014-01-08   \n",
       "surge_pct                              33.3                  100   \n",
       "trips_in_first_30_days                    1                    0   \n",
       "luxury_car_user                           1                    0   \n",
       "weekday_pct                            33.3                    0   \n",
       "last_trip               2014-05-18 00:00:00  2014-06-29 00:00:00   \n",
       "churn                                     1                    0   \n",
       "\n",
       "                                      49992                49993  \\\n",
       "avg_dist                               7.58                 2.53   \n",
       "avg_rating_by_driver                      5                  4.7   \n",
       "avg_rating_of_driver                      1                  4.8   \n",
       "avg_surge                                 1                 1.11   \n",
       "city                         King's Landing              Astapor   \n",
       "last_trip_date                   2014-01-19           2014-07-01   \n",
       "phone                                iPhone               iPhone   \n",
       "signup_date                      2014-01-18           2014-01-03   \n",
       "surge_pct                                 0                 11.1   \n",
       "trips_in_first_30_days                    1                    3   \n",
       "luxury_car_user                           0                    1   \n",
       "weekday_pct                               0                 55.6   \n",
       "last_trip               2014-01-19 00:00:00  2014-07-01 00:00:00   \n",
       "churn                                     1                    0   \n",
       "\n",
       "                                      49994                49995  \\\n",
       "avg_dist                               2.25                 5.63   \n",
       "avg_rating_by_driver                    4.5                  4.2   \n",
       "avg_rating_of_driver                    4.6                    5   \n",
       "avg_surge                              1.44                    1   \n",
       "city                                Astapor       King's Landing   \n",
       "last_trip_date                   2014-05-31           2014-06-05   \n",
       "phone                                iPhone               iPhone   \n",
       "signup_date                      2014-01-03           2014-01-25   \n",
       "surge_pct                              37.5                    0   \n",
       "trips_in_first_30_days                    1                    0   \n",
       "luxury_car_user                           0                    0   \n",
       "weekday_pct                              25                  100   \n",
       "last_trip               2014-05-31 00:00:00  2014-06-05 00:00:00   \n",
       "churn                                     1                    0   \n",
       "\n",
       "                                      49996                49997  \\\n",
       "avg_dist                                  0                 3.86   \n",
       "avg_rating_by_driver                      4                    5   \n",
       "avg_rating_of_driver                    NaN                    5   \n",
       "avg_surge                                 1                    1   \n",
       "city                                Astapor           Winterfell   \n",
       "last_trip_date                   2014-01-25           2014-05-22   \n",
       "phone                                iPhone              Android   \n",
       "signup_date                      2014-01-24           2014-01-31   \n",
       "surge_pct                                 0                    0   \n",
       "trips_in_first_30_days                    1                    0   \n",
       "luxury_car_user                           0                    1   \n",
       "weekday_pct                               0                  100   \n",
       "last_trip               2014-01-25 00:00:00  2014-05-22 00:00:00   \n",
       "churn                                     1                    1   \n",
       "\n",
       "                                      49998                49999  \n",
       "avg_dist                               4.58                 3.49  \n",
       "avg_rating_by_driver                    3.5                    5  \n",
       "avg_rating_of_driver                      3                  NaN  \n",
       "avg_surge                                 1                    1  \n",
       "city                                Astapor              Astapor  \n",
       "last_trip_date                   2014-01-15           2014-04-20  \n",
       "phone                                iPhone              Android  \n",
       "signup_date                      2014-01-14           2014-01-18  \n",
       "surge_pct                                 0                    0  \n",
       "trips_in_first_30_days                    2                    0  \n",
       "luxury_car_user                           0                    0  \n",
       "weekday_pct                             100                    0  \n",
       "last_trip               2014-01-15 00:00:00  2014-04-20 00:00:00  \n",
       "churn                                     1                    1  \n",
       "\n",
       "[14 rows x 50000 columns]"
      ]
     },
     "execution_count": 25,
     "metadata": {},
     "output_type": "execute_result"
    }
   ],
   "source": [
    "data.T"
   ]
  },
  {
   "cell_type": "markdown",
   "metadata": {},
   "source": [
    "# Data cleaning pipeline:\n",
    "\n",
    "- date to datetime\n",
    "- remove NA\n"
   ]
  },
  {
   "cell_type": "code",
   "execution_count": 27,
   "metadata": {},
   "outputs": [
    {
     "name": "stdout",
     "output_type": "stream",
     "text": [
      "<class 'pandas.core.frame.DataFrame'>\n",
      "RangeIndex: 50000 entries, 0 to 49999\n",
      "Data columns (total 14 columns):\n",
      " #   Column                  Non-Null Count  Dtype  \n",
      "---  ------                  --------------  -----  \n",
      " 0   avg_dist                50000 non-null  float64\n",
      " 1   avg_rating_by_driver    49799 non-null  float64\n",
      " 2   avg_rating_of_driver    41878 non-null  float64\n",
      " 3   avg_surge               50000 non-null  float64\n",
      " 4   city                    50000 non-null  object \n",
      " 5   last_trip_date          50000 non-null  object \n",
      " 6   phone                   49604 non-null  object \n",
      " 7   signup_date             50000 non-null  object \n",
      " 8   surge_pct               50000 non-null  float64\n",
      " 9   trips_in_first_30_days  50000 non-null  int64  \n",
      " 10  luxury_car_user         50000 non-null  int64  \n",
      " 11  weekday_pct             50000 non-null  float64\n",
      " 12  last_trip               50000 non-null  object \n",
      " 13  churn                   50000 non-null  int64  \n",
      "dtypes: float64(6), int64(3), object(5)\n",
      "memory usage: 5.3+ MB\n"
     ]
    }
   ],
   "source": [
    "data.info()"
   ]
  },
  {
   "cell_type": "code",
   "execution_count": 26,
   "metadata": {},
   "outputs": [],
   "source": [
    "date = '06-01-2014'\n",
    "data['last_trip'] = pd.to_datetime(data.last_trip_date)\n",
    "data['last_trip'] = data['last_trip'].dt.date\n",
    "data['churn'] = (data.last_trip < date)*1\n",
    "data['signup_date'] = pd.to_datetime(data.signup_date)\n",
    "data['signup_date'] = data['signup_date'].dt.date\n",
    "data['luxury_car_user'] = data.luxury_car_user*1"
   ]
  },
  {
   "cell_type": "code",
   "execution_count": 30,
   "metadata": {},
   "outputs": [
    {
     "name": "stdout",
     "output_type": "stream",
     "text": [
      "<class 'pandas.core.frame.DataFrame'>\n",
      "Int64Index: 41445 entries, 0 to 49998\n",
      "Data columns (total 14 columns):\n",
      " #   Column                  Non-Null Count  Dtype  \n",
      "---  ------                  --------------  -----  \n",
      " 0   avg_dist                41445 non-null  float64\n",
      " 1   avg_rating_by_driver    41445 non-null  float64\n",
      " 2   avg_rating_of_driver    41445 non-null  float64\n",
      " 3   avg_surge               41445 non-null  float64\n",
      " 4   city                    41445 non-null  object \n",
      " 5   last_trip_date          41445 non-null  object \n",
      " 6   phone                   41445 non-null  object \n",
      " 7   signup_date             41445 non-null  object \n",
      " 8   surge_pct               41445 non-null  float64\n",
      " 9   trips_in_first_30_days  41445 non-null  int64  \n",
      " 10  luxury_car_user         41445 non-null  int64  \n",
      " 11  weekday_pct             41445 non-null  float64\n",
      " 12  last_trip               41445 non-null  object \n",
      " 13  churn                   41445 non-null  int64  \n",
      "dtypes: float64(6), int64(3), object(5)\n",
      "memory usage: 4.7+ MB\n"
     ]
    }
   ],
   "source": [
    "data = data.dropna()\n",
    "data.info()"
   ]
  },
  {
   "cell_type": "code",
   "execution_count": 31,
   "metadata": {},
   "outputs": [
    {
     "data": {
      "text/plain": [
       "Winterfell        19161\n",
       "Astapor           13509\n",
       "King's Landing     8775\n",
       "Name: city, dtype: int64"
      ]
     },
     "execution_count": 31,
     "metadata": {},
     "output_type": "execute_result"
    }
   ],
   "source": [
    "data.city.value_counts()"
   ]
  },
  {
   "cell_type": "code",
   "execution_count": 41,
   "metadata": {},
   "outputs": [
    {
     "data": {
      "text/plain": [
       "0    25526\n",
       "1    15919\n",
       "Name: luxury_car_user, dtype: int64"
      ]
     },
     "execution_count": 41,
     "metadata": {},
     "output_type": "execute_result"
    }
   ],
   "source": [
    "data.luxury_car_user.value_counts()"
   ]
  },
  {
   "cell_type": "code",
   "execution_count": 33,
   "metadata": {},
   "outputs": [
    {
     "data": {
      "text/plain": [
       "iPhone     29352\n",
       "Android    12093\n",
       "Name: phone, dtype: int64"
      ]
     },
     "execution_count": 33,
     "metadata": {},
     "output_type": "execute_result"
    }
   ],
   "source": [
    "data.phone.value_counts()"
   ]
  },
  {
   "cell_type": "code",
   "execution_count": 32,
   "metadata": {},
   "outputs": [
    {
     "data": {
      "text/plain": [
       "1    24410\n",
       "0    17035\n",
       "Name: churn, dtype: int64"
      ]
     },
     "execution_count": 32,
     "metadata": {},
     "output_type": "execute_result"
    }
   ],
   "source": [
    "data.churn.value_counts()"
   ]
  },
  {
   "cell_type": "code",
   "execution_count": 40,
   "metadata": {},
   "outputs": [],
   "source": [
    "X = data[['avg_dist', \n",
    "     'avg_rating_by_driver', \n",
    "     'avg_rating_of_driver', \n",
    "     'avg_surge', \n",
    "     'surge_pct', \n",
    "     'trips_in_first_30_days', \n",
    "     'weekday_pct']].values\n",
    "y = data.churn.values"
   ]
  },
  {
   "cell_type": "markdown",
   "metadata": {},
   "source": [
    "# Simple logistic regression"
   ]
  },
  {
   "cell_type": "code",
   "execution_count": 44,
   "metadata": {},
   "outputs": [],
   "source": [
    "model = LogisticRegression()"
   ]
  },
  {
   "cell_type": "code",
   "execution_count": 47,
   "metadata": {},
   "outputs": [],
   "source": [
    "X_train, X_test, y_train, y_test = train_test_split(X, y)"
   ]
  },
  {
   "cell_type": "code",
   "execution_count": 55,
   "metadata": {},
   "outputs": [
    {
     "data": {
      "text/plain": [
       "(0.18004237145766994, 0.3747346072186836)"
      ]
     },
     "execution_count": 55,
     "metadata": {},
     "output_type": "execute_result"
    }
   ],
   "source": [
    "model.fit(X_train, y_train)\n",
    "y_hat = model.predict(X_test)\n",
    "mean_squared_log_error(y_test, y_hat), mean_squared_error(y_test, y_hat)"
   ]
  },
  {
   "cell_type": "code",
   "execution_count": 66,
   "metadata": {},
   "outputs": [
    {
     "data": {
      "text/plain": [
       "-0.5409027572889062"
      ]
     },
     "execution_count": 66,
     "metadata": {},
     "output_type": "execute_result"
    }
   ],
   "source": [
    "r2_score(y_test, y_hat)"
   ]
  },
  {
   "cell_type": "code",
   "execution_count": 51,
   "metadata": {},
   "outputs": [
    {
     "data": {
      "text/plain": [
       "array([[ 0.02760542,  0.10948703,  0.01140204,  0.42584567, -0.00401934,\n",
       "        -0.11663491, -0.00060319]])"
      ]
     },
     "execution_count": 51,
     "metadata": {},
     "output_type": "execute_result"
    }
   ],
   "source": [
    "model.coef_"
   ]
  },
  {
   "cell_type": "code",
   "execution_count": 52,
   "metadata": {},
   "outputs": [
    {
     "data": {
      "text/plain": [
       "array([-0.43969221])"
      ]
     },
     "execution_count": 52,
     "metadata": {},
     "output_type": "execute_result"
    }
   ],
   "source": [
    "model.intercept_"
   ]
  },
  {
   "cell_type": "code",
   "execution_count": 61,
   "metadata": {},
   "outputs": [
    {
     "data": {
      "text/plain": [
       "(891, 3435, 448, 5588)"
      ]
     },
     "execution_count": 61,
     "metadata": {},
     "output_type": "execute_result"
    }
   ],
   "source": [
    "tn, fp, fn, tp = confusion_matrix(y_test, y_hat).ravel()\n",
    "tn, fp, fn, tp"
   ]
  },
  {
   "cell_type": "markdown",
   "metadata": {},
   "source": [
    "# Looking into other models"
   ]
  },
  {
   "cell_type": "code",
   "execution_count": 63,
   "metadata": {},
   "outputs": [],
   "source": [
    "rf = RandomForestRegressor(n_estimators=100,\n",
    "                            n_jobs=-1,\n",
    "                            random_state=1)\n",
    "\n",
    "gdbr = GradientBoostingRegressor(learning_rate=0.1,\n",
    "                                  loss='ls',\n",
    "                                  n_estimators=100,\n",
    "                                  random_state=1)\n",
    "\n",
    "abr = AdaBoostRegressor(DecisionTreeRegressor(),\n",
    "                         learning_rate=0.1,\n",
    "                         loss='linear',\n",
    "                         n_estimators=100,\n",
    "                         random_state=1)"
   ]
  },
  {
   "cell_type": "code",
   "execution_count": 64,
   "metadata": {},
   "outputs": [],
   "source": [
    "def cvscore(x, y):\n",
    "    print('rf', \n",
    "          np.mean(cross_val_score(rf, X_train, y_train, scoring='r2', cv=5)), \n",
    "          cross_val_score(rf, X_train, y_train, scoring='neg_mean_squared_error', cv=5).mean()*(-1)\n",
    "         )\n",
    "    print('gdbr', \n",
    "          np.mean(cross_val_score(gdbr, X_train, y_train, scoring='r2', cv=5)), \n",
    "          cross_val_score(gdbr, X_train, y_train, scoring='neg_mean_squared_error', cv=5).mean()*(-1)\n",
    "         )\n",
    "    print('abr', \n",
    "          np.mean(cross_val_score(abr, X_train, y_train, scoring='r2', cv=5)), \n",
    "          cross_val_score(abr, X_train, y_train, scoring='neg_mean_squared_error', cv=5).mean()*(-1)\n",
    "         )"
   ]
  },
  {
   "cell_type": "code",
   "execution_count": 67,
   "metadata": {},
   "outputs": [
    {
     "name": "stdout",
     "output_type": "stream",
     "text": [
      "rf 0.16288264809725617 0.20232032255426385\n",
      "gdbr 0.2608275247284878 0.17864457845790216\n",
      "abr -0.24434171812719133 0.30073969847641824\n"
     ]
    }
   ],
   "source": [
    "cvscore(X, y)"
   ]
  },
  {
   "cell_type": "code",
   "execution_count": 68,
   "metadata": {},
   "outputs": [],
   "source": [
    "def stage_score_plot(estimator, X_train, y_train, X_test, y_test):\n",
    "    '''\n",
    "    Parameters: estimator: GradientBoostingRegressor or AdaBoostRegressor\n",
    "                X_train: 2d numpy array\n",
    "                y_train: 1d numpy array\n",
    "                X_test: 2d numpy array\n",
    "                y_test: 1d numpy array\n",
    "\n",
    "    Returns: A plot of the number of iterations vs the MSE for the model for\n",
    "    both the training set and test set.\n",
    "    '''\n",
    "    clf = estimator()\n",
    "    clf.fit(X_train, y_train)\n",
    "    \n",
    "    predicts_train = np.array(list(clf.staged_predict(X_train)))\n",
    "    MSEs_train = (y_train - predicts_train)**2\n",
    "    MSEs_train = MSEs_train.mean(axis=1)\n",
    "    \n",
    "    predicts_test = np.array(list(clf.staged_predict(X_test)))\n",
    "    MSEs_test = (y_test - predicts_test)**2\n",
    "    MSEs_test = MSEs_test.mean(axis=1)\n",
    "    \n",
    "    x = range(100)\n",
    "    \n",
    "    plt.plot(x, MSEs_test)\n",
    "    plt.plot(x, MSEs_train)\n",
    "    #plt.legend()\n",
    "\n",
    "    return MSEs_train, MSEs_test"
   ]
  },
  {
   "cell_type": "code",
   "execution_count": 69,
   "metadata": {},
   "outputs": [
    {
     "data": {
      "image/png": "[encoded data removed]",
      "text/plain": [
       "<Figure size 432x288 with 1 Axes>"
      ]
     },
     "metadata": {
      "needs_background": "light"
     },
     "output_type": "display_data"
    }
   ],
   "source": [
    "estimator = GradientBoostingRegressor\n",
    "MSEs_train, MSEs_test = stage_score_plot(estimator, X_train, y_train, X_test, y_test)"
   ]
  },
  {
   "cell_type": "markdown",
   "metadata": {},
   "source": [
    "# Gradient Booster Regressor\n"
   ]
  },
  {
   "cell_type": "code",
   "execution_count": 71,
   "metadata": {},
   "outputs": [],
   "source": [
    "gdbr = GradientBoostingRegressor(learning_rate=0.1,\n",
    "                                  loss='ls',\n",
    "                                  n_estimators=100,\n",
    "                                  random_state=1)"
   ]
  },
  {
   "cell_type": "code",
   "execution_count": 77,
   "metadata": {},
   "outputs": [
    {
     "data": {
      "text/plain": [
       "0.1808096259218557"
      ]
     },
     "execution_count": 77,
     "metadata": {},
     "output_type": "execute_result"
    }
   ],
   "source": [
    "gdbr.fit(X_train, y_train)\n",
    "y_hat = gdbr.predict(X_test)\n",
    "mean_squared_error(y_test, y_hat)"
   ]
  },
  {
   "cell_type": "code",
   "execution_count": 76,
   "metadata": {},
   "outputs": [
    {
     "data": {
      "text/plain": [
       "array([0.02111597, 0.41667961, 0.02558658, 0.03088397, 0.23730669,\n",
       "       0.05953113, 0.20889605])"
      ]
     },
     "execution_count": 76,
     "metadata": {},
     "output_type": "execute_result"
    }
   ],
   "source": [
    "gdbr.feature_importances_"
   ]
  },
  {
   "cell_type": "code",
   "execution_count": 81,
   "metadata": {},
   "outputs": [
    {
     "data": {
      "text/plain": [
       "Text(0, 0.5, 'Feature Name')"
      ]
     },
     "execution_count": 81,
     "metadata": {},
     "output_type": "execute_result"
    },
    {
     "data": {
      "image/png": "[encoded data removed]",
      "text/plain": [
       "<Figure size 432x288 with 1 Axes>"
      ]
     },
     "metadata": {
      "needs_background": "light"
     },
     "output_type": "display_data"
    }
   ],
   "source": [
    "fig, ax = plt.subplots()\n",
    "\n",
    "feature_importances = gdbr.feature_importances_\n",
    "feature_names = ['avg_dist', \n",
    "     'avg_rating_by_driver', \n",
    "     'avg_rating_of_driver', \n",
    "     'avg_surge', \n",
    "     'surge_pct', \n",
    "     'trips_in_first_30_days', \n",
    "     'weekday_pct']\n",
    "\n",
    "width = 0.8\n",
    "\n",
    "idx = np.arange(len(feature_names))\n",
    "ax.barh(idx, feature_importances, align='center')\n",
    "ax.set_yticks(idx, feature_names)\n",
    "\n",
    "\n",
    "ax.set_title(\"Feature Importances in Gradient Booster\")\n",
    "ax.set_xlabel('Relative Importance of Feature', fontsize=14)\n",
    "ax.set_ylabel('Feature Name', fontsize=14)\n",
    "# plt.savefig('plots/feature-importances.png', bbox_inches='tight')"
   ]
  },
  {
   "cell_type": "markdown",
   "metadata": {},
   "source": [
    "# Using GradientBoostingClassifier"
   ]
  },
  {
   "cell_type": "code",
   "execution_count": 91,
   "metadata": {},
   "outputs": [
    {
     "data": {
      "text/plain": [
       "0.7334491410924532"
      ]
     },
     "execution_count": 91,
     "metadata": {},
     "output_type": "execute_result"
    }
   ],
   "source": [
    "clf = GradientBoostingClassifier()\n",
    "clf.fit(X_train, y_train)\n",
    "y_hat = clf.predict(X_test)\n",
    "clf.score(X_test, y_test)"
   ]
  },
  {
   "cell_type": "code",
   "execution_count": 89,
   "metadata": {},
   "outputs": [
    {
     "data": {
      "text/plain": [
       "array([0.02300634, 0.41472877, 0.0255347 , 0.0323991 , 0.23470843,\n",
       "       0.06236783, 0.20725482])"
      ]
     },
     "execution_count": 89,
     "metadata": {},
     "output_type": "execute_result"
    }
   ],
   "source": [
    "clf.feature_importances_"
   ]
  },
  {
   "cell_type": "code",
   "execution_count": 87,
   "metadata": {},
   "outputs": [
    {
     "data": {
      "text/plain": [
       "Text(0, 0.5, 'Feature Name')"
      ]
     },
     "execution_count": 87,
     "metadata": {},
     "output_type": "execute_result"
    },
    {
     "data": {
      "image/png": "[encoded data removed]",
      "text/plain": [
       "<Figure size 432x288 with 1 Axes>"
      ]
     },
     "metadata": {
      "needs_background": "light"
     },
     "output_type": "display_data"
    }
   ],
   "source": [
    "fig, ax = plt.subplots()\n",
    "\n",
    "feature_importances = clf.feature_importances_\n",
    "feature_names = ['avg_dist', \n",
    "     'avg_rating_by_driver', \n",
    "     'avg_rating_of_driver', \n",
    "     'avg_surge', \n",
    "     'surge_pct', \n",
    "     'trips_in_first_30_days', \n",
    "     'weekday_pct']\n",
    "\n",
    "width = 0.8\n",
    "\n",
    "idx = np.arange(len(feature_names))\n",
    "ax.barh(idx, feature_importances, align='center')\n",
    "ax.set_yticks(idx, feature_names)\n",
    "\n",
    "\n",
    "ax.set_title(\"Feature Importances in Gradient Booster\")\n",
    "ax.set_xlabel('Relative Importance of Feature', fontsize=14)\n",
    "ax.set_ylabel('Feature Name', fontsize=14)\n",
    "# plt.savefig('plots/feature-importances.png', bbox_inches='tight')"
   ]
  },
  {
   "cell_type": "code",
   "execution_count": null,
   "metadata": {},
   "outputs": [],
   "source": []
  }
 ],
 "metadata": {
  "kernelspec": {
   "display_name": "Python 3",
   "language": "python",
   "name": "python3"
  },
  "language_info": {
   "codemirror_mode": {
    "name": "ipython",
    "version": 3
   },
   "file_extension": ".py",
   "mimetype": "text/x-python",
   "name": "python",
   "nbconvert_exporter": "python",
   "pygments_lexer": "ipython3",
   "version": "3.7.6"
  }
 },
 "nbformat": 4,
 "nbformat_minor": 4
}
